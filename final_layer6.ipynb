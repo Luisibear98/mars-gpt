{
 "cells": [
  {
   "cell_type": "markdown",
   "metadata": {},
   "source": [
    "## Imports"
   ]
  },
  {
   "cell_type": "code",
   "execution_count": 1,
   "metadata": {},
   "outputs": [
    {
     "name": "stderr",
     "output_type": "stream",
     "text": [
      "/home/oso/anaconda3/envs/keras-jax/lib/python3.10/site-packages/tqdm/auto.py:21: TqdmWarning: IProgress not found. Please update jupyter and ipywidgets. See https://ipywidgets.readthedocs.io/en/stable/user_install.html\n",
      "  from .autonotebook import tqdm as notebook_tqdm\n"
     ]
    }
   ],
   "source": [
    "# Load GPT-2 model and tokenizer\n",
    "from transformers import GPT2Model, GPT2Tokenizer\n",
    "from baukit import TraceDict\n",
    "import torch\n",
    "import matplotlib.pyplot as plt\n",
    "import numpy as np\n"
   ]
  },
  {
   "cell_type": "markdown",
   "metadata": {},
   "source": [
    "## Loading GPT and Text samples"
   ]
  },
  {
   "cell_type": "code",
   "execution_count": 8,
   "metadata": {},
   "outputs": [
    {
     "name": "stderr",
     "output_type": "stream",
     "text": [
      "/home/oso/anaconda3/envs/keras-jax/lib/python3.10/site-packages/transformers/tokenization_utils_base.py:1617: FutureWarning: `clean_up_tokenization_spaces` was not set. It will be set to `True` by default. This behavior will be deprecated in transformers v4.45, and will be then set to `False` by default. For more details check this issue: https://github.com/huggingface/transformers/issues/31884\n",
      "  warnings.warn(\n"
     ]
    }
   ],
   "source": [
    "# Load GPT-2 model and tokenizer\n",
    "model_name = \"gpt2\"\n",
    "model = GPT2Model.from_pretrained(model_name).to(\"cuda:1\")\n",
    "tokenizer = GPT2Tokenizer.from_pretrained(model_name)\n",
    "tokenizer.pad_token = tokenizer.eos_token"
   ]
  },
  {
   "cell_type": "code",
   "execution_count": 9,
   "metadata": {},
   "outputs": [
    {
     "name": "stdout",
     "output_type": "stream",
     "text": [
      "GPT2Model(\n",
      "  (wte): Embedding(50257, 768)\n",
      "  (wpe): Embedding(1024, 768)\n",
      "  (drop): Dropout(p=0.1, inplace=False)\n",
      "  (h): ModuleList(\n",
      "    (0-11): 12 x GPT2Block(\n",
      "      (ln_1): LayerNorm((768,), eps=1e-05, elementwise_affine=True)\n",
      "      (attn): GPT2SdpaAttention(\n",
      "        (c_attn): Conv1D(nf=2304, nx=768)\n",
      "        (c_proj): Conv1D(nf=768, nx=768)\n",
      "        (attn_dropout): Dropout(p=0.1, inplace=False)\n",
      "        (resid_dropout): Dropout(p=0.1, inplace=False)\n",
      "      )\n",
      "      (ln_2): LayerNorm((768,), eps=1e-05, elementwise_affine=True)\n",
      "      (mlp): GPT2MLP(\n",
      "        (c_fc): Conv1D(nf=3072, nx=768)\n",
      "        (c_proj): Conv1D(nf=768, nx=3072)\n",
      "        (act): NewGELUActivation()\n",
      "        (dropout): Dropout(p=0.1, inplace=False)\n",
      "      )\n",
      "    )\n",
      "  )\n",
      "  (ln_f): LayerNorm((768,), eps=1e-05, elementwise_affine=True)\n",
      ")\n"
     ]
    }
   ],
   "source": [
    "print(model)"
   ]
  },
  {
   "cell_type": "code",
   "execution_count": 10,
   "metadata": {},
   "outputs": [],
   "source": [
    "texts = [\n",
    "    \"Hello, I'm Luis from Spain.\",\n",
    "    \"The quick brown fox jumps over the lazy dog.\",\n",
    "    \"Machine learning is transforming the world.\",\n",
    "    \"GPT-2 is a powerful language model.\",\n",
    "    \"Climate change is one of the biggest challenges of our time.\",\n",
    "    \"Artificial intelligence is revolutionizing healthcare.\",\n",
    "    \"The stock market fluctuates based on economic news.\",\n",
    "    \"Space exploration has always fascinated humanity.\",\n",
    "    \"Cooking delicious meals is an art and science.\",\n",
    "    \"The history of ancient civilizations is intriguing.\",\n",
    "    \"Reading books expands your knowledge and imagination.\",\n",
    "    \"Programming requires logical thinking and creativity.\",\n",
    "    \"The cat sat on the mat.\",\n",
    "    \"Robots are increasingly being used in manufacturing.\",\n",
    "    \"Exercise is essential for maintaining good health.\",\n",
    "    \"Traveling opens your mind to new cultures and ideas.\",\n",
    "    \"The Internet has transformed how we communicate.\",\n",
    "    \"Music has the power to evoke deep emotions.\",\n",
    "    \"Education is the key to unlocking opportunities.\",\n",
    "    \"Cryptocurrencies are disrupting traditional finance.\",\n",
    "    \"Elections determine the future of governments.\",\n",
    "    \"Renewable energy sources are critical for sustainability.\",\n",
    "    \"Philosophy questions the nature of reality and existence.\",\n",
    "    \"Wildlife conservation is vital for biodiversity.\",\n",
    "    \"The universe is vast and full of mysteries.\",\n",
    "    \"Hiking in nature is a rejuvenating experience.\",\n",
    "    \"Learning new languages improves cognitive skills.\",\n",
    "    \"The Renaissance was a period of immense cultural growth.\",\n",
    "    \"Artificial intelligence can outperform humans in some tasks.\",\n",
    "    \"Water is essential for all forms of life.\",\n",
    "    \"The Great Wall of China is an architectural marvel.\",\n",
    "    \"Blockchain technology enables secure transactions.\",\n",
    "    \"The study of astronomy reveals the secrets of the cosmos.\",\n",
    "    \"Teamwork is crucial for achieving success in any field.\",\n",
    "    \"Data science involves analyzing large datasets for insights.\",\n",
    "    \"The pyramids of Egypt are wonders of the ancient world.\",\n",
    "    \"Self-driving cars are the future of transportation.\",\n",
    "    \"Meditation helps reduce stress and improve focus.\",\n",
    "    \"The brain is the most complex organ in the human body.\",\n",
    "    \"The art of painting captures the beauty of the world.\",\n",
    "    \"Video games have become a popular form of entertainment.\",\n",
    "    \"Global trade connects economies around the world.\",\n",
    "    \"Sports bring people together and promote physical activity.\",\n",
    "    \"Digital marketing is essential for modern businesses.\",\n",
    "    \"The oceans cover more than 70% of Earth's surface.\",\n",
    "    \"SpaceX is advancing space travel with reusable rockets.\",\n",
    "    \"Learning history helps us understand the present.\",\n",
    "    \"Artificial neural networks are inspired by the human brain.\",\n",
    "    \"The Eiffel Tower is an iconic landmark in Paris.\",\n",
    "    \"Virtual reality offers immersive experiences in gaming.\",\n",
    "    \"Healthy eating is important for a balanced lifestyle.\",\n",
    "    \"The discovery of antibiotics revolutionized medicine.\",\n",
    "    \"Mountains provide breathtaking views and adventure.\"\n",
    "]\n"
   ]
  },
  {
   "cell_type": "markdown",
   "metadata": {},
   "source": [
    "## Tokenize inputs"
   ]
  },
  {
   "cell_type": "code",
   "execution_count": 4,
   "metadata": {},
   "outputs": [],
   "source": [
    "\n",
    "max_length = 20 \n",
    "inputs = tokenizer(\n",
    "    texts,\n",
    "    return_tensors=\"pt\",\n",
    "    padding=\"max_length\",  # Pad to the max_length\n",
    "    truncation=True,       # Truncate if input exceeds max_length\n",
    "    max_length=max_length  # Specify the length to pad/truncate to\n",
    ")\n",
    "\n",
    "inputs = {key: val.to(\"cuda:1\") for key, val in inputs.items()}\n",
    "\n"
   ]
  },
  {
   "cell_type": "markdown",
   "metadata": {},
   "source": [
    "## Hooking model with Baukit and plot"
   ]
  },
  {
   "cell_type": "markdown",
   "metadata": {},
   "source": [
    "Here we will hook a layer, in this case the ln_2 at the layer number 6 and we will gather the activations.\n",
    "When done that, we substract the mean activation of each token and compute the L2 norm. Later, we can plot the historgram:"
   ]
  },
  {
   "cell_type": "code",
   "execution_count": 5,
   "metadata": {},
   "outputs": [],
   "source": [
    "# Selecting the layer to hook\n",
    "\n",
    "hook_layers = [\"h.6.ln_2\"] # we can add more here\n",
    "\n",
    "# Using baukit to hook the layer\n",
    "with TraceDict(model, layers=hook_layers, retain_input=True, retain_output=True) as rep:\n",
    "    outputs = model(**inputs, output_hidden_states=True)\n",
    "\n",
    "    # Access the output from the hooked layer\n",
    "    activations = rep['h.6.ln_2'].output  # Shape: [batch_size, seq_length, hidden_dim]\n",
    "    \n",
    "    # Subtract mean activation for each token\n",
    "    mean_subtracted = activations - activations.mean(dim=-1, keepdim=True)\n",
    "    \n",
    "    # Compute the L2 norm for each token's activation vector\n",
    "    norms = torch.norm(mean_subtracted, dim=-1)  # Shape: [batch_size, seq_length]\n",
    "    \n",
    "    # Flatten norms across all batches and sequences\n",
    "    flattened_norms = norms.view(-1).tolist()\n",
    "\n"
   ]
  },
  {
   "cell_type": "code",
   "execution_count": 6,
   "metadata": {},
   "outputs": [
    {
     "data": {
      "image/png": "[encoded data removed]",
      "text/plain": [
       "<Figure size 640x480 with 1 Axes>"
      ]
     },
     "metadata": {},
     "output_type": "display_data"
    },
    {
     "name": "stdout",
     "output_type": "stream",
     "text": [
      "Mean Norm: 6.658634734603594\n",
      "Variance of Norms: 1.0896326661873386\n",
      "Standard Deviation of Norms: 1.043854715076451\n"
     ]
    }
   ],
   "source": [
    "\n",
    "# Plot histogram of norms\n",
    "plt.hist(flattened_norms, bins=50, alpha=0.7, color='blue')\n",
    "plt.xlabel('Norm of Activation Vector')\n",
    "plt.ylabel('Frequency')\n",
    "plt.title('Histogram of Activation Vector Norms (After Layer 6)')\n",
    "plt.show()\n",
    "\n",
    "print(\"Mean Norm:\", np.mean(flattened_norms))\n",
    "print(\"Variance of Norms:\", np.var(flattened_norms))\n",
    "print(\"Standard Deviation of Norms:\", np.std(flattened_norms))"
   ]
  }
 ],
 "metadata": {
  "kernelspec": {
   "display_name": "keras-jax",
   "language": "python",
   "name": "python3"
  },
  "language_info": {
   "codemirror_mode": {
    "name": "ipython",
    "version": 3
   },
   "file_extension": ".py",
   "mimetype": "text/x-python",
   "name": "python",
   "nbconvert_exporter": "python",
   "pygments_lexer": "ipython3",
   "version": "3.10.14"
  }
 },
 "nbformat": 4,
 "nbformat_minor": 2
}
